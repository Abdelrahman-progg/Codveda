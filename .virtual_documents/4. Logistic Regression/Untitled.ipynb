import pandas as pd

d = {'miles_per_week': [37,39,46,51,88,17,18,20,21,22,23,24,25,27,28,29,30,31,32,33,34,38,40,42,57,68,35,36,41,43,45,47,49,50,52,53,54,55,56,58,59,60,61,63,64,65,66,69,70,72,73,75,76,77,78,80,81,82,83,84,85,86,87,89,91,92,93,95,96,97,98,99,100,101,102,103,104,105,106,107,109,110,111,113,114,115,116,116,118,119,120,121,123,124,126,62,67,74,79,90,112],
      'completed_50m_ultra': ['no','no','no','no','no','no','no','no','no','no','no','no','no','no','no','no','no','no','no','no','no','no','no','no','no','no','yes','yes','yes','yes','no','yes','yes','yes','no','yes','yes','yes','yes','yes','yes','yes','yes','no','yes','yes','yes','yes','yes','yes','yes','no','yes','yes','yes','yes','yes','yes','yes','no','yes','yes','yes','yes','yes','yes','yes','no','yes','yes','yes','yes','yes','yes','yes','yes','yes','yes','yes','yes','yes','yes','yes','yes','yes','yes','yes','yes','yes','yes','yes','yes','yes','yes','yes','yes','yes','yes','yes','yes','yes',]}

df = pd.DataFrame(data=d)
df


from sklearn.preprocessing import OrdinalEncoder

finished_race = ['no', 'yes']
enc = OrdinalEncoder(categories=[finished_race])
print(df['completed_50m_ultra'].unique())


df['completed_50m_ultra'] = enc.fit_transform(df[['completed_50m_ultra']])
df


from matplotlib import pyplot as plt

plt.scatter(df.miles_per_week, df.completed_50m_ultra, alpha=0.5)


import seaborn as sns

sns.countplot(x='completed_50m_ultra', data=df)


X = df.iloc[:, 0:1]
y = df.iloc[:, 1]


from sklearn.model_selection import train_test_split

X_train, X_test, y_train, y_test= train_test_split(X, y, train_size=0.8, random_state=15)
X_train.shape


from sklearn.linear_model import LogisticRegression

model = LogisticRegression()
model.fit(X_train, y_train)


y_pred = model.predict(X_test)
model.score(X_test, y_test)


coefficients = model.coef_[0]
coefficients


import numpy as np
np.exp(coefficients)


from sklearn.metrics import confusion_matrix

print (confusion_matrix(y_test, y_pred))


from sklearn.metrics import classification_report

print (classification_report(y_test, y_pred))
