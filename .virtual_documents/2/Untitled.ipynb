import pandas as pd
import matplotlib.pyplot as plt
import seaborn as sns


df = pd.read_csv("ecommerce.csv")
df.head()


df.info()


df.describe()


from sklearn.model_selection import train_test_split

X = df[['Time on App', 'Time on Website', 'Length of Membership', 'Avg. Session Length']]
y = df['Yearly Amount Spent']

X_train, X_test, y_train, y_test = train_test_split(X, y, test_size=0.2)


X_train





from sklearn.linear_model import LinearRegression

lm = LinearRegression()

lm.fit(X_train, y_train)


lm.coef_


predictions = lm.predict(X_test)


predictions


sns.scatterplot(x=predictions, y=y_test)
plt.xlabel('predictions')
plt.title('Evaluation of our lm model')


from sklearn.metrics import mean_squared_error, mean_absolute_error
import math

print('Mean absolute error: ', mean_absolute_error(y_test, predictions))
print('Mean squared error: ', mean_squared_error(y_test, predictions))
print('RMSE: ',math.sqrt(mean_squared_error(y_test, predictions)))



