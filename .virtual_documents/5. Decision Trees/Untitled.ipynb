





import pandas as pd
from sklearn.datasets import load_iris

X, y = load_iris(return_X_y=True, as_frame=True)





from sklearn.model_selection import train_test_split

X_train, X_test, y_train, y_test = train_test_split(X, y, test_size=0.2)





from sklearn.pipeline import Pipeline
from sklearn.preprocessing import MinMaxScaler
from sklearn.tree import DecisionTreeClassifier

pipeline = Pipeline(steps=[
    ('scaler', MinMaxScaler()),
    ('classifier', DecisionTreeClassifier(max_depth=3)) 
])
pipeline.fit(X_train, y_train) 





from sklearn.metrics import ConfusionMatrixDisplay

ConfusionMatrixDisplay.from_estimator(pipeline, X_test, y_test) 


from sklearn.metrics import classification_report

print(classification_report(y_test, pipeline.predict(X_test))) 


data = load_iris()






import matplotlib.pyplot as plt
from sklearn import tree

plt.figure(figsize=(20,8), facecolor='w')
a = tree.plot_tree(pipeline[-1], 
                   feature_names=X.columns,
                   class_names=data.target_names,
                   rounded=True,
                   filled=True,
                   fontsize=12)
plt.show()


from sklearn.tree import export_text

tree_rules = export_text(pipeline[-1], 
                        feature_names = list(X.columns))
print(tree_rules)


import numpy as np

importance = pd.DataFrame({'feature' : X.columns,
                           'importance' : np.round(pipeline[-1].feature_importances_, 3)})
importance.sort_values('importance', ascending=False, inplace=True)
importance


from sklearn.model_selection import GridSearchCV

tuned_parameters = {'classifier__max_depth': [1,2,3,4,5], 'classifier__min_samples_split': [2,4,6,8,10]}
clf_cv = GridSearchCV(pipeline, tuned_parameters, scoring='f1_macro')
clf_cv.fit(X_train, y_train)






clf_cv.best_params_


means = clf_cv.cv_results_['mean_test_score']
stds = clf_cv.cv_results_['std_test_score']
params = clf_cv.cv_results_['params']
for mean, std, param in zip(means, stds, params):
  print(f'{mean} +-{std} for {param}')



