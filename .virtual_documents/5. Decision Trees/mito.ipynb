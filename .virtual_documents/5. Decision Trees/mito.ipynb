





import pandas as pd
from sklearn.datasets import load_iris

# Load Iris dataset
iris = load_iris()
X = pd.DataFrame(iris.data, columns=iris.feature_names)
y = pd.Series(iris.target, name='species')

# Quick look at the data
X.head() 





from sklearn.model_selection import train_test_split

# Split the dataset into training and testing sets (80% train, 20% test)
X_train, X_test, y_train, y_test = train_test_split(X, y, test_size=0.2, random_state=42)

# Show how many samples are in each set
len(X_train), len(X_test) 





from sklearn.tree import DecisionTreeClassifier

# Create and train the classifier
clf = DecisionTreeClassifier(random_state=42)
clf.fit(X_train, y_train) 





import matplotlib.pyplot as plt
from sklearn.tree import plot_tree

plt.figure(figsize=(15, 8))
plot_tree(clf, feature_names=X.columns, class_names=iris.target_names, filled=True)
plt.title("Decision Tree for Iris Dataset")
plt.show() 





# Prune the tree by limiting its maximum depth
clf_pruned = DecisionTreeClassifier(max_depth=3, random_state=42)
clf_pruned.fit(X_train, y_train)

plt.figure(figsize=(15, 8))
plot_tree(clf_pruned, feature_names=X.columns, class_names=iris.target_names, filled=True)
plt.title("Pruned Decision Tree (max_depth=3)")
plt.show() 





from sklearn.metrics import accuracy_score, f1_score

# Predict on the test set
y_pred = clf.predict(X_test)
y_pred_pruned = clf_pruned.predict(X_test)

# Calculate accuracy and F1-score
orig_acc = accuracy_score(y_test, y_pred)
orig_f1 = f1_score(y_test, y_pred, average='weighted')

pruned_acc = accuracy_score(y_test, y_pred_pruned)
pruned_f1 = f1_score(y_test, y_pred_pruned, average='weighted')

# Display the scores
print("Original Decision Tree:")
print(f"  Accuracy: {orig_acc:.3f}")
print(f"  F1-score: {orig_f1:.3f}")
print("\nPruned Decision Tree (max_depth=3):")
print(f"  Accuracy: {pruned_acc:.3f}")
print(f"  F1-score: {pruned_f1:.3f}") 





from sklearn.metrics import classification_report

print("Classification Report for Pruned Decision Tree (max_depth=3):")
print(classification_report(y_test, y_pred_pruned, target_names=iris.target_names)) 
