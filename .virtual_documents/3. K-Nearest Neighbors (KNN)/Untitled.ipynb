import pandas as pd

df = pd.read_csv('500hits.csv', encoding='latin-1')
df.head()


df=df.drop(columns=['PLAYER', 'CS'])
df.head()


X = df.iloc[:, 0:13]
y = df.iloc[:, 13]


from sklearn.model_selection import train_test_split

X_train, X_test, y_train, y_test = train_test_split(X, y, test_size=0.2, random_state = 5)


from sklearn.preprocessing import MinMaxScaler

scaler = MinMaxScaler(feature_range=(0,1))

X_train = scaler.fit_transform(X_train)
X_test = scaler.transform(X_test)


from sklearn.neighbors import KNeighborsClassifier

Knn = KNeighborsClassifier(n_neighbors=8)
Knn.fit(X_train, y_train)

y_pred = Knn.predict(X_test)
y_pred


Knn.score(X_test, y_test)


from sklearn.metrics import confusion_matrix

cm = confusion_matrix(y_test, y_pred)
cm


from sklearn.metrics import classification_report

cr = classification_report(y_test, y_pred)
print(cr)
