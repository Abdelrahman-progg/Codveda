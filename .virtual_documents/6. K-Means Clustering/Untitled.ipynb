





import pandas as pd
import numpy as np
import matplotlib.pyplot as plt
import seaborn as sns

from sklearn.preprocessing import StandardScaler

from sklearn.datasets import load_iris

from sklearn.cluster import KMeans
from sklearn.datasets import make_blobs


from sklearn.metrics import silhouette_score


data = load_iris()
df = pd.DataFrame(data.data, columns=data.feature_names)
df['target'] = data.target
y = df['target'].values
df.head()





plt.scatter(df['sepal length (cm)'], df['petal length (cm)'], s=50)

plt.xlabel('sepal length (cm)')
plt.ylabel('petal length (cm)')





sns.pairplot(df[['sepal length (cm)','sepal width (cm)', 'petal length (cm)','petal width (cm)' ]])


X = df[['petal length (cm)', 'petal width (cm)']]

scaler = StandardScaler()
X_scaled = scaler.fit_transform(X)





Kmeans = KMeans(n_clusters=3, random_state=1)
Kmeans.fit(X_scaled)





labels = Kmeans.labels_
centroids = Kmeans.cluster_centers_


colnames = ['petal length (cm)', 'petal width (cm)']

df = pd.DataFrame(X_scaled, columns=colnames)


X = pd.DataFrame(X_scaled, columns=colnames)
X





colormap = np.array(['r', 'g', 'b'])
plt.scatter(df['petal length (cm)'], df['petal width (cm)'], c=colormap[labels])
plt.xlabel('petal length (cm)')
plt.ylabel('petal width (cm)')


plt.scatter(df['petal length (cm)'], df['petal width (cm)'], c=colormap[labels])
plt.scatter(centroids[:,0], centroids[:,1], s=300, marker='x', c='k')

plt.xlabel('petal length (cm)')
plt.ylabel('petal width (cm)')





plt.figure(figsize=(8,4))
plt.subplot(1, 2, 1)
plt.scatter(df['petal length (cm)'], df['petal width (cm)'], c=colormap[labels])
plt.xlabel('petal length (cm)')
plt.ylabel('petal width (cm)')
plt.title('L-Means Classification')

plt.subplot(1, 2, 2)
plt.scatter(df['petal length (cm)'], df['petal width (cm)'], c=colormap[y], s=40)
plt.xlabel('petal length (cm)')
plt.ylabel('petal width (cm)')
plt.title('Flower Species')


silhouette_score(X, labels, metric='euclidean')
plt.scatter(df['petal length (cm)'], df['petal width (cm)'], c=colormap[labels])
plt.xlabel('petal length (cm)')
plt.ylabel('petal width (cm)')
plt.title('L-Means Classification')





plt.figure(figsize=(4,4))

n_samples = 1500
random_state = 170
X, y = make_blobs(n_samples=n_samples, random_state=random_state)

y_pred = KMeans(n_clusters=2, random_state=random_state).fit_predict(X)
plt.scatter(X[:, 0], X[:, 1], c=y_pred)
plt.title("\"incorrect\" Number if Blobs")


plt.figure(figsize=(4,4))

n_samples = 1500
random_state = 170
X, y = make_blobs(n_samples=n_samples, random_state=random_state)

X_varied, y_varied = make_blobs(n_samples=n_samples,cluster_std=[1, 2.5, 0.5], random_state=random_state)
y_pred = KMeans(n_clusters=3, random_state=random_state).fit_predict(X_varied)

plt.scatter(X_varied[:, 0],X_varied[:, 1], c=y_pred)
plt.title('Unequal Variance')



