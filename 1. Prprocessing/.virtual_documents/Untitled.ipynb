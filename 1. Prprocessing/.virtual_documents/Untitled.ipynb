import numpy as np
import pandas as pd

import dtale

from sklearn.impute import SimpleImputer
from sklearn.compose import ColumnTransformer
from sklearn.preprocessing import LabelEncoder, OneHotEncoder, StandardScaler
from sklearn.model_selection import train_test_split



df = pd.read_csv('data.csv')
dtale.show(df)
dtale.show(df)


X = df.iloc[:, :-1].values
y = df.iloc[:, -1].values

dtale.show(X)


imputer = SimpleImputer(missing_values=np.nan, strategy='mean')
imputer = imputer.fit(X[:, 1:])
X[:, 1:] = imputer.transform(X[:, 1:])
dtale.show(y)


ct = ColumnTransformer([('Region', OneHotEncoder(), [0])], remainder='passthrough')
X = ct.fit_transform(X)
labelencoder_y = LabelEncoder()
y = labelencoder_y.fit_transform(y)
dtale.show(X)


dtale.show(y)


X_train, X_test, y_train, y_test = train_test_split(X, y, test_size=0.25, random_state=0)


sc_X = StandardScaler()
X_train = sc_X.fit_transform(X_train)
X_test = sc_X.transform(X_test)


dtale.show(X_train)
