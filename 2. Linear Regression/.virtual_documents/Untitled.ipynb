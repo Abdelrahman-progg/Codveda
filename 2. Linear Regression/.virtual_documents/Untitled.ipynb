import pandas as pd
import marplotlib.pyplot as plt
import seaborn as sns


df = pd.read_csv("eco")



